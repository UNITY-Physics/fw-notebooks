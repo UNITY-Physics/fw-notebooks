{
 "cells": [
  {
   "cell_type": "markdown",
   "id": "4bf54528-0d9b-4086-a012-b437efce0609",
   "metadata": {
    "tags": []
   },
   "source": [
    "## 🧼 DICOM PHI Cleanup Script Documentation\n",
    "Niall Bourke     \n",
    "24-4-25     \n",
    "\n",
    "This notebook processes and anonymizes DICOM files within a Flywheel project. Specifically, it removes Protected Health Information (PHI) fields such as `PatientName`, then re-uploads the cleaned file to the same acquisition, replacing the original.\n",
    "\n",
    "---\n",
    "\n",
    "### 🔧 Prerequisites\n",
    "\n",
    "- Access to a **Flywheel-hosted Jupyter Lab** environment or local Python session with `flywheel`, `pydicom`, and `pathlib` installed.\n",
    "- You must already be authenticated to Flywheel and have access to the desired project.\n",
    "- The helper function `clean_and_replace_dicom()` must be defined in a previous cell. This function:\n",
    "  - Removes PHI fields from a DICOM file (e.g., `PatientName`)\n",
    "  - Replaces the file in Flywheel with a cleaned version\n",
    "  - Optionally deletes the local temp file\n",
    "\n",
    "---\n",
    "\n",
    "### 🔁 Overview of Workflow\n",
    "\n",
    "This script performs the following steps:\n",
    "\n",
    "1. **Set up working directories**:\n",
    "   - A `~/Data/` directory is created to store DICOM files temporarily during processing.\n",
    "\n",
    "2. **Loop through sessions, acquisitions, and files**:\n",
    "   - For each DICOM file:\n",
    "     - Downloads it to a subject/session-specific folder under `~/Data/`\n",
    "     - Calls `clean_and_replace_dicom()` to:\n",
    "       - Strip PHI from the file\n",
    "       - Re-upload the cleaned file\n",
    "       - Delete the original file from the acquisition\n",
    "\n",
    "3. **Tracks and prints runtime** for performance monitoring.\n",
    "\n",
    "---\n",
    "\n",
    "### ⚠️ Notes & Best Practices\n",
    "\n",
    "- **PHI Removal**: This example removes only `PatientBirthDate`. For full compliance, you may wish to expand it to include other PHI DICOM tags (e.g., `PatientName`, `InstitutionName`, etc.).\n",
    "- **Safety**: Re-uploading the file will **permanently replace** the original — be sure to back up data if needed.\n",
    "- **Avoiding Private Methods**: This script uses `acq.delete_file()` instead of `fw._fw.delete_acquisition_file()`, which is discouraged since it relies on Flywheel's internal\n"
   ]
  },
  {
   "cell_type": "markdown",
   "id": "0d53743c-0936-498e-a40a-a228e609abad",
   "metadata": {},
   "source": [
    "### Install required packages"
   ]
  },
  {
   "cell_type": "code",
   "execution_count": null,
   "id": "7b121ea6-fc23-441b-8dc9-10c0b49cb757",
   "metadata": {
    "tags": []
   },
   "outputs": [],
   "source": [
    "pip install pydicom"
   ]
  },
  {
   "cell_type": "markdown",
   "id": "9542379d-58fb-4c16-a8b9-0c1f56d766e4",
   "metadata": {},
   "source": [
    "### Function for cleaning PHI\n",
    "- reads dicom headers\n",
    "- if field exists, deletes it\n",
    "- deletes existing file on FW\n",
    "- uploads new version without PHI field"
   ]
  },
  {
   "cell_type": "code",
   "execution_count": null,
   "id": "0950eeab-4ddf-438a-bf79-689761c77b17",
   "metadata": {
    "tags": []
   },
   "outputs": [],
   "source": [
    "logging.basicConfig(level=logging.INFO)\n",
    "logger = logging.getLogger(__name__)\n",
    "\n",
    "def clean_and_replace_dicom(acq, file, download_path):\n",
    "    \"\"\"\n",
    "    Remove PHI tags from a DICOM file and re-upload it to the Flywheel acquisition.\n",
    "    \n",
    "    Args:\n",
    "        acq: Flywheel acquisition object\n",
    "        file: Flywheel file object associated with the acquisition\n",
    "        download_path: Local path to the downloaded file\n",
    "    \"\"\"\n",
    "    try:\n",
    "        ds = pydicom.dcmread(download_path)\n",
    "\n",
    "        if 'PatientBirthDate' in ds:\n",
    "            logger.info(f\"Removing PatientBirthDate: {ds.PatientBirthDate}\")\n",
    "            del ds.PatientBirthDate\n",
    "\n",
    "            # Save the cleaned file\n",
    "            ds.save_as(download_path)\n",
    "\n",
    "            # Remove original file\n",
    "            acq.delete_file(file.name)\n",
    "\n",
    "            # Upload the cleaned file\n",
    "            acq.upload_file(download_path)\n",
    "            logger.info(f\"Re-uploaded cleaned file: {file.name}\")\n",
    "        else:\n",
    "            logger.info(\"PatientBirthDate tag not found, skipping.\")\n",
    "\n",
    "    except Exception as e:\n",
    "        logger.error(f\"Failed to clean {file.name}: {e}\")\n",
    "        \n",
    "        "
   ]
  },
  {
   "cell_type": "markdown",
   "id": "73173f47-d4ed-48ba-a3ab-9ff57b385504",
   "metadata": {},
   "source": [
    "### Loop to find files in project to clean"
   ]
  },
  {
   "cell_type": "code",
   "execution_count": null,
   "id": "4d441473-51a8-472a-8836-be0364aa086b",
   "metadata": {
    "tags": []
   },
   "outputs": [],
   "source": [
    "import flywheel\n",
    "import tempfile\n",
    "import os\n",
    "import time\n",
    "from pathlib import Path\n",
    "import pydicom\n",
    "\n",
    "# get the start time\n",
    "st = time.time()\n",
    "\n",
    "project = fw_project\n",
    "\n",
    "# Create a work directory in our local \"home\" directory\n",
    "work_dir = Path(Path.home()/'Data/', platform='auto')\n",
    "# If it doesn't exist, create it\n",
    "if not work_dir.exists():\n",
    "    work_dir.mkdir(parents = True)\n",
    "\n",
    "# Loop over subjects → sessions → acquisitions\n",
    "for subject in project.subjects.iter():\n",
    "    # if subject.label == '':\n",
    "        for session in subject.sessions.iter():\n",
    "            for acq in session.acquisitions.iter():\n",
    "                # Work on each DICOM file\n",
    "                for file in acq.files:\n",
    "                    file = file.reload()\n",
    "                    if file.type == 'dicom':\n",
    "                        # 1) Download into a temp dir\n",
    "                        print(file.name)\n",
    "                        data_dir = Path(work_dir/subject.label/session.label, platform='auto')\n",
    "                        # If it doesn't exist, create it\n",
    "                        if not data_dir.exists():\n",
    "                            data_dir.mkdir(parents = True)\n",
    "\n",
    "                        download_path = os.path.join(data_dir, file.name)\n",
    "                        print(f\"Downloading {file.name} to {download_path}\")\n",
    "                        file.download(download_path)\n",
    "\n",
    "                        clean_and_replace_dicom(acq, file, download_path)\n",
    "\n",
    "\n",
    "# get the end time\n",
    "et = time.time()\n",
    "# get the execution time\n",
    "elapsed_time = et - st\n",
    "print('Execution time:', elapsed_time, 'seconds')"
   ]
  },
  {
   "cell_type": "code",
   "execution_count": null,
   "id": "b19103ee-10d5-4e9f-af1b-97461947d376",
   "metadata": {},
   "outputs": [],
   "source": []
  }
 ],
 "metadata": {
  "kernelspec": {
   "display_name": "Python 3 (ipykernel)",
   "language": "python",
   "name": "python3"
  },
  "language_info": {
   "codemirror_mode": {
    "name": "ipython",
    "version": 3
   },
   "file_extension": ".py",
   "mimetype": "text/x-python",
   "name": "python",
   "nbconvert_exporter": "python",
   "pygments_lexer": "ipython3",
   "version": "3.10.10"
  }
 },
 "nbformat": 4,
 "nbformat_minor": 5
}
