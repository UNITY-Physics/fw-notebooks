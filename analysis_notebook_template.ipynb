{
 "cells": [
  {
   "cell_type": "markdown",
   "id": "a187de6a-2535-4f1c-aea4-a8185a797804",
   "metadata": {
    "tags": []
   },
   "source": [
    "# Analysis Notebook Template\n",
    "\n",
    "Author(s): niall.bourke@kcl.ac.uk  , hajer.karoui@kcl.ac.uk\n",
    "Version 2.0 (15/01/25)  \n",
    "\n",
    "### Summary of Purpose:\n",
    "This notebook serves as a structured template for conducting data analysis.\n",
    "It centralizes common functionalities, such as data loading, visualization, and statistical analysis, into well-defined and reusable cells.\n",
    "Each cell is modular, enabling easy customization and adaptation for different datasets or projects.\n",
    "\n",
    "### Contents:\n",
    "1. **Importing Packages**: A cell dedicated to importing all necessary libraries such as pandas, numpy, matplotlib, and seaborn.\n",
    "\n",
    "2. **Defining Global Settings**: A cell to define consistent global settings, such as plot aesthetics (color palette, font size) and configurations for the notebook.\n",
    "\n",
    "3. **Pulling CSV Files from the 'Information Tab'**: A cell that loads and processes CSV files from a specific source directory or tab, preparing them for analysis.\n",
    "\n",
    "4. **Pulling Files from Analysis Output Containers**: A cell for retrieving and organizing files or results generated from other analysis pipelines or tools.\n",
    "\n",
    "5. **Boxplot Function**: Contains a reusable function for generating boxplots with optional enhancements, such as overlaid scatter points or group-specific coloring.\n",
    "\n",
    "6. **Scatterplot Function**: Contains a reusable function for creating scatterplots with regression lines, including options to group data and calculate correlation coefficients.\n",
    "\n",
    "7. **Descriptive Statistics Function**: A cell with functions to compute descriptive statistics (e.g., mean, median, standard deviation), grouped statistics, frequency counts, and correlations.\n",
    "\n",
    "8. **Miscellaneous Commands**: A collection of utility commands and helper functions that may be useful during the analysis, such as formatting outputs, handling missing data, or additional visualizations.\n"
   ]
  },
  {
   "cell_type": "markdown",
   "id": "a002e7da-ed92-455f-901f-2805ff72cdc5",
   "metadata": {},
   "source": [
    "### Import packages"
   ]
  },
  {
   "cell_type": "code",
   "execution_count": 1,
   "id": "e9efb3a9-751f-4c67-91d3-435b6a0e8c31",
   "metadata": {
    "tags": []
   },
   "outputs": [],
   "source": [
    "from pathlib import Path\n",
    "import matplotlib.pyplot as plt\n",
    "import pandas as pd\n",
    "import seaborn as sns"
   ]
  },
  {
   "cell_type": "markdown",
   "id": "f21cc215-e9e5-4095-96e1-bb99584a7341",
   "metadata": {},
   "source": [
    "### Define global plot and display settings"
   ]
  },
  {
   "cell_type": "markdown",
   "id": "eec5fcb9",
   "metadata": {},
   "source": [
    "Not all columns are usually displayed when printing the dataframe. To help us visualise the data better, we will remove this cap."
   ]
  },
  {
   "cell_type": "code",
   "execution_count": 6,
   "id": "91325e54",
   "metadata": {},
   "outputs": [],
   "source": [
    "pd.set_option('display.max_columns', None)"
   ]
  },
  {
   "cell_type": "code",
   "execution_count": 2,
   "id": "b46a535f-c2f1-48f5-97c8-6547f0771deb",
   "metadata": {
    "tags": []
   },
   "outputs": [
    {
     "name": "stdout",
     "output_type": "stream",
     "text": [
      "Global plot settings applied.\n"
     ]
    }
   ],
   "source": [
    "\n",
    "# Define global plot settings\n",
    "PLOT_FONT = \"DejaVu Sans\"    # Font family\n",
    "PLOT_SIZE = (10, 6)          # Default figure size\n",
    "COLOR_PALETTE = \"Set2\"       # Default color palette \"Spectral\"    \n",
    "POINT_SIZE = 50              # Default point size for scatterplots\n",
    "LINE_WIDTH = 2               # Default line width\n",
    "TITLE_FONT_SIZE = 16         # Font size for titles\n",
    "LABEL_FONT_SIZE = 14         # Font size for axis labels\n",
    "TICK_FONT_SIZE = 12          # Font size for ticks\n",
    "\n",
    "# Apply global Seaborn theme\n",
    "sns.set_theme(\n",
    "    style=\"whitegrid\",\n",
    "    context=\"notebook\",\n",
    "    font=PLOT_FONT,\n",
    "    palette=COLOR_PALETTE\n",
    ")\n",
    "\n",
    "# Set Matplotlib defaults\n",
    "plt.rcParams.update({\n",
    "    \"figure.figsize\": PLOT_SIZE,\n",
    "    \"axes.titlesize\": TITLE_FONT_SIZE,\n",
    "    \"axes.labelsize\": LABEL_FONT_SIZE,\n",
    "    \"xtick.labelsize\": TICK_FONT_SIZE,\n",
    "    \"ytick.labelsize\": TICK_FONT_SIZE,\n",
    "    \"lines.linewidth\": LINE_WIDTH\n",
    "})\n",
    "\n",
    "print(\"Global plot settings applied.\")\n"
   ]
  },
  {
   "cell_type": "markdown",
   "id": "c2f931ac-8882-40e6-be02-aaec751ef726",
   "metadata": {},
   "source": [
    "### This cell pulls derived values from csv files stored in the infomation tab"
   ]
  },
  {
   "cell_type": "code",
   "execution_count": null,
   "id": "a786d93e-09b8-40e5-aa0a-e17a29a5b1a8",
   "metadata": {
    "tags": []
   },
   "outputs": [],
   "source": [
    "# Specify name of file you want to download to env\n",
    "file_to_find = 'sample-recon-all-clinical-0.3.2-volumes.csv'\n",
    "\n",
    "# Specify an object that contains the files in the information tab\n",
    "file_obj = fw_project.files\n",
    "\n",
    "# Loop over each file in this object until you find the file of interest\n",
    "for file in file_obj:\n",
    "    if file_to_find in file.name:\n",
    "        download_path = Path.home() / \"Data/\" / file.name\n",
    "        file.download(download_path)\n",
    "        df = pd.read_csv(download_path)"
   ]
  },
  {
   "cell_type": "markdown",
   "id": "4ba3dfa7-7d87-4c27-9666-7ef66da5113e",
   "metadata": {},
   "source": [
    "### This cell pulls the most recent output for a specified gear run\n",
    "*At least by date"
   ]
  },
  {
   "cell_type": "code",
   "execution_count": 80,
   "id": "f4d1c0f8-4599-487e-808d-b2dd972dd45e",
   "metadata": {
    "tags": []
   },
   "outputs": [
    {
     "name": "stdout",
     "output_type": "stream",
     "text": [
      "File object:  parsed_qc_annotations_2024-12-12_14-44-40.csv\n"
     ]
    }
   ],
   "source": [
    "# Define gear\n",
    "gear='form-parser'\n",
    "\n",
    "\n",
    "# Filter the analyses by the gear name\n",
    "analyses = fw_project.analyses\n",
    "gear_to_find = gear.strip()  # Assuming 'gear' is the gear name you're looking for\n",
    "filtered_gear_runs = [\n",
    "    run for run in analyses\n",
    "    if run.get('gear_info', {}).get('name', '').strip().casefold() == gear_to_find.casefold()\n",
    "]\n",
    "\n",
    "# Get the latest gear run\n",
    "latest_gear_run = filtered_gear_runs[-1]\n",
    "file_object = latest_gear_run.files\n",
    "print(\"File object: \", file_object[0].name)\n",
    "\n",
    "# Download file\n",
    "download_path = Path.home() / \"Data/\" / file_object[0].name\n",
    "file_object[0].download(download_path)\n",
    "\n",
    "# After download specify as variable to view\n",
    "df_qc = download_path"
   ]
  },
  {
   "cell_type": "markdown",
   "id": "9b3e0585-75eb-4547-b91a-12a3393c1835",
   "metadata": {},
   "source": [
    "### unity_boxplot function\n",
    "Setup with defaults, allows user to specify what variables they want to display"
   ]
  },
  {
   "cell_type": "code",
   "execution_count": null,
   "id": "22c1e4c8-63d3-442b-a27e-72fb82000a19",
   "metadata": {
    "tags": []
   },
   "outputs": [],
   "source": [
    "import matplotlib.pyplot as plt\n",
    "import seaborn as sns\n",
    "\n",
    "def unity_boxplot(data=None, x_axis='default_x', y_axis='default_y', title=\"Plot Title\"):\n",
    "    \"\"\"\n",
    "    Plots data using Seaborn boxplot with scatter points overlaid, \n",
    "    where points are colored based on the x-axis variable.\n",
    "\n",
    "    Parameters:\n",
    "        data (pd.DataFrame): The dataset to plot.\n",
    "        x_axis (str): The column name for the x-axis. Defaults to 'default_x'.\n",
    "        y_axis (str): The column name for the y-axis. Defaults to 'default_y'.\n",
    "        title (str): Title of the plot. Defaults to \"Plot Title\".\n",
    "\n",
    "    Returns:\n",
    "        None\n",
    "    \"\"\"\n",
    "    \n",
    "    if data is None:\n",
    "        print(\"No input data provided. Please use the function as shown in the example below:\")\n",
    "        print(\"\"\"\n",
    "        Example Usage:\n",
    "        ---------------\n",
    "        \n",
    "        unity_boxplot(df, x_axis='sex', y_axis='total intracranial', title='Boxplot')\n",
    "        \n",
    "        Example dataset:\n",
    "        ---------------\n",
    "                \n",
    "        df = pd.DataFrame({\n",
    "        'Category': ['A', 'B', 'A', 'B', 'C', 'C', 'A', 'B', 'C', 'A'],\n",
    "        'Values': [5, 7, 6, 8, 5, 7, 6, 8, 6, 7]\n",
    "        })\n",
    "\n",
    "\n",
    "        \"\"\")\n",
    "        return\n",
    "    \n",
    "    if x_axis not in data.columns or y_axis not in data.columns:\n",
    "        raise ValueError(f\"Specified axes '{x_axis}' or '{y_axis}' not found in the dataset columns.\")\n",
    "\n",
    "    # Create the boxplot\n",
    "    sns.boxplot(\n",
    "        data=data,\n",
    "        x=x_axis,\n",
    "        y=y_axis,\n",
    "        palette=COLOR_PALETTE #\"Set2\"  # Use a qualitative palette for x-axis categories\n",
    "    )\n",
    "    \n",
    "    # Overlay the points with coloring by x-axis variable\n",
    "    sns.stripplot(\n",
    "        data=data,\n",
    "        x=x_axis,\n",
    "        y=y_axis,\n",
    "        hue=x_axis,  # Points colored by the x-axis variable\n",
    "        # dodge=True,  # Spread points out slightly\n",
    "        palette=COLOR_PALETTE,  # Same palette for consistency\n",
    "        size=8,\n",
    "        jitter=True,\n",
    "        alpha=0.8  # Make points slightly transparent for visibility\n",
    "    )\n",
    "\n",
    "    # Add labels, legend, and title\n",
    "    plt.xlabel(x_axis)\n",
    "    plt.ylabel(y_axis)\n",
    "    plt.title(title)\n",
    "    plt.legend(title=x_axis, bbox_to_anchor=(1.05, 1), loc=\"upper left\")  # Place legend outside the plot\n",
    "    plt.tight_layout()\n",
    "    plt.savefig(f'{x_axis}_boxplot.png')\n",
    "    plt.show()\n"
   ]
  },
  {
   "cell_type": "markdown",
   "id": "6f1a39d6-bd80-46a2-b0b3-bb5126507594",
   "metadata": {},
   "source": [
    "### Call boxplot function\n",
    "Required inputs:\n",
    "- dataframe\n",
    "- X axis variable (categorical)\n",
    "- Y axis variable (continuous)"
   ]
  },
  {
   "cell_type": "code",
   "execution_count": 82,
   "id": "2800cae6-2f13-43bb-8004-0ef2bfc9a211",
   "metadata": {
    "tags": []
   },
   "outputs": [
    {
     "data": {
      "image/png": "[encoded data removed]",
      "text/plain": [
       "<Figure size 1000x600 with 1 Axes>"
      ]
     },
     "metadata": {},
     "output_type": "display_data"
    }
   ],
   "source": [
    "unity_boxplot(df, x_axis='sex', y_axis='total intracranial', title='Boxplot')"
   ]
  },
  {
   "cell_type": "markdown",
   "id": "310d0388-e152-4b4d-b48c-34aa25ff678a",
   "metadata": {},
   "source": [
    "**Usage example if no inputs are provided** "
   ]
  },
  {
   "cell_type": "code",
   "execution_count": 83,
   "id": "7c10a80b-138a-4db9-9fb3-a9a0769ee8e8",
   "metadata": {
    "tags": []
   },
   "outputs": [
    {
     "name": "stdout",
     "output_type": "stream",
     "text": [
      "No input data provided. Please use the function as shown in the example below:\n",
      "\n",
      "        Example Usage:\n",
      "        ---------------\n",
      "        \n",
      "        unity_boxplot(df, x_axis='sex', y_axis='total intracranial', title='Boxplot')\n",
      "        \n",
      "        Example dataset:\n",
      "        ---------------\n",
      "                \n",
      "        df = pd.DataFrame({\n",
      "        'Category': ['A', 'B', 'A', 'B', 'C', 'C', 'A', 'B', 'C', 'A'],\n",
      "        'Values': [5, 7, 6, 8, 5, 7, 6, 8, 6, 7]\n",
      "        })\n",
      "\n",
      "\n",
      "        \n"
     ]
    }
   ],
   "source": [
    "unity_boxplot()"
   ]
  },
  {
   "cell_type": "markdown",
   "id": "1c95265e-46ad-4843-9267-025e047851cd",
   "metadata": {},
   "source": [
    "### Scatter plot function"
   ]
  },
  {
   "cell_type": "code",
   "execution_count": null,
   "id": "857f69c0-92b9-4ddb-a629-92497ca1a25f",
   "metadata": {
    "tags": []
   },
   "outputs": [],
   "source": [
    "import matplotlib.pyplot as plt\n",
    "import seaborn as sns\n",
    "from scipy.stats import pearsonr\n",
    "\n",
    "def unity_scatterplot(data=None, x_axis='default_x', y_axis='default_y', group=None, title=\"Plot Title\"):\n",
    "    \"\"\"\n",
    "    Plots data using Seaborn lmplot for scatter points with regression lines, \n",
    "    where points are optionally colored based on a grouping variable. \n",
    "    Includes r and p values for each group on the plot.\n",
    "\n",
    "    Parameters:\n",
    "        data (pd.DataFrame): The dataset to plot.\n",
    "        x_axis (str): The column name for the x-axis. Defaults to 'default_x'.\n",
    "        y_axis (str): The column name for the y-axis. Defaults to 'default_y'.\n",
    "        group (str): The column name for the grouping variable. Defaults to None.\n",
    "        title (str): Title of the plot. Defaults to \"Plot Title\".\n",
    "\n",
    "    Returns:\n",
    "        None\n",
    "    \"\"\"\n",
    "    if data is None:\n",
    "        print(\"No input data provided. Please use the function as shown in the example below:\")\n",
    "        print(\"\"\"\n",
    "        Example Usage:\n",
    "        ---------------\n",
    "        \n",
    "        unity_scatterplot(df, x_axis='age', y_axis='total_intracranial', group='sex', title='Smoothed Regression Plot')\n",
    "        \n",
    "        Example dataset:\n",
    "        ---------------\n",
    "                \n",
    "        df = pd.DataFrame({\n",
    "            'age': [20, 25, 30, 35, 40, 45, 50, 55, 60, 65],\n",
    "            'total_intracranial': [1500, 1520, 1480, 1450, 1400, 1380, 1350, 1330, 1300, 1280],\n",
    "            'sex': ['M', 'F', 'M', 'F', 'M', 'F', 'M', 'F', 'M', 'F']\n",
    "        })\n",
    "        \"\"\")\n",
    "        return\n",
    "\n",
    "    if x_axis not in data.columns or y_axis not in data.columns:\n",
    "        raise ValueError(f\"Specified axes '{x_axis}' or '{y_axis}' not found in the dataset columns.\")\n",
    "\n",
    "    # Calculate r and p values for each group if a grouping variable is provided\n",
    "    annotations = []\n",
    "    if group:\n",
    "        grouped_data = data.groupby(group)\n",
    "        for group_name, group_data in grouped_data:\n",
    "            x = group_data[x_axis]\n",
    "            y = group_data[y_axis]\n",
    "            r_value, p_value = pearsonr(x, y)\n",
    "            annotations.append((group_name, r_value, p_value))\n",
    "    else:\n",
    "        # If no group, calculate for the entire dataset\n",
    "        x = data[x_axis]\n",
    "        y = data[y_axis]\n",
    "        r_value, p_value = pearsonr(x, y)\n",
    "        annotations.append((None, r_value, p_value))\n",
    "\n",
    "    # Create the regression plot\n",
    "    sns.lmplot(\n",
    "        data=data, \n",
    "        x=x_axis, \n",
    "        y=y_axis, \n",
    "        hue=group, \n",
    "        ci=95, \n",
    "        height=6, \n",
    "        aspect=1.5, \n",
    "        scatter_kws={\"s\": 50}, \n",
    "        line_kws={\"lw\": 2}\n",
    "    )\n",
    "\n",
    "    # Add labels, title, and annotations\n",
    "    plt.xlabel(x_axis)\n",
    "    plt.ylabel(y_axis)\n",
    "    plt.title(title)\n",
    "    \n",
    "    for idx, (group_name, r_value, p_value) in enumerate(annotations):\n",
    "        text = f\"{group_name if group_name else 'Overall'}: r = {r_value:.2f}, p = {p_value:.3g}\"\n",
    "        plt.annotate(\n",
    "            text,\n",
    "            xy=(0.05, 0.95 - idx * 0.05),\n",
    "            xycoords='axes fraction',\n",
    "            fontsize=12,\n",
    "            ha='left',\n",
    "            va='top',\n",
    "            bbox=dict(boxstyle=\"round,pad=0.3\", edgecolor=\"black\", facecolor=\"white\")\n",
    "        )\n",
    "\n",
    "    plt.tight_layout()\n",
    "    plt.savefig(f'scatterplot_{x_axis}_{y_axis}.png')\n",
    "    plt.show()\n"
   ]
  },
  {
   "cell_type": "markdown",
   "id": "0e82f568-a92a-432c-9cf0-a0841e1447c0",
   "metadata": {},
   "source": [
    "### Call scatterplot function\n",
    "Required inputs:\n",
    "- dataframe\n",
    "- X axis variable (continuous)\n",
    "- Y axis variable (continuous)\n",
    "\n",
    "Optional inputs:\n",
    "- group (categorical)\n",
    "- title"
   ]
  },
  {
   "cell_type": "code",
   "execution_count": 85,
   "id": "0ae1f53d-a5f6-4fda-a900-55fb8d31996b",
   "metadata": {
    "tags": []
   },
   "outputs": [
    {
     "data": {
      "image/png": "[encoded data removed]",
      "text/plain": [
       "<Figure size 900x600 with 1 Axes>"
      ]
     },
     "metadata": {},
     "output_type": "display_data"
    }
   ],
   "source": [
    "unity_scatterplot(df, x_axis='age', y_axis='total intracranial', title='Smoothed Regression Plot')"
   ]
  },
  {
   "cell_type": "code",
   "execution_count": 86,
   "id": "85ad6999-0b23-4b47-ad84-583c9e02e75d",
   "metadata": {
    "tags": []
   },
   "outputs": [
    {
     "data": {
      "image/png": "[encoded data removed]",
      "text/plain": [
       "<Figure size 968.25x600 with 1 Axes>"
      ]
     },
     "metadata": {},
     "output_type": "display_data"
    }
   ],
   "source": [
    "unity_scatterplot(df, x_axis='age', y_axis='total intracranial', group='sex', title='Smoothed Regression Plot')"
   ]
  },
  {
   "cell_type": "markdown",
   "id": "7381221b-1c7e-43bd-97fa-61615ce5a7be",
   "metadata": {},
   "source": [
    "## Functions for descriptive statistics"
   ]
  },
  {
   "cell_type": "code",
   "execution_count": 7,
   "id": "8bda2939-04ba-4df3-99f5-72624c3abefe",
   "metadata": {
    "tags": []
   },
   "outputs": [],
   "source": [
    "def dataset_summary(data):\n",
    "    \"\"\"\n",
    "    Provides a summary of the entire dataset, including column data types, \n",
    "    missing values, and basic descriptive statistics.\n",
    "    \"\"\"\n",
    "    print(\"Dataset Info:\")\n",
    "    print(data.info())\n",
    "    print(\"\\nMissing Values:\")\n",
    "    print(data.isnull().sum())\n",
    "    print(\"\\nBasic Descriptive Statistics:\")\n",
    "    print(data.describe(include=\"all\"))\n"
   ]
  },
  {
   "cell_type": "code",
   "execution_count": 8,
   "id": "dd7ce93d-7847-4c83-8a5e-4b1519a426e9",
   "metadata": {
    "tags": []
   },
   "outputs": [],
   "source": [
    "def grouped_statistics(data, group_column, numeric_columns):\n",
    "    \"\"\"\n",
    "    Provides descriptive statistics for numeric columns grouped by a specific column.\n",
    "\n",
    "    Parameters:\n",
    "        data (pd.DataFrame): The dataset to analyze.\n",
    "        group_column (str): The column to group by (e.g., 'group' or 'sex').\n",
    "        numeric_columns (list): List of numeric columns to summarize (e.g., ['age', 'volume', 'weight']).\n",
    "    \"\"\"\n",
    "    grouped_stats = data.groupby(group_column)[numeric_columns].describe()\n",
    "    print(f\"Descriptive Statistics Grouped by {group_column}:\")\n",
    "    print(grouped_stats)\n"
   ]
  },
  {
   "cell_type": "code",
   "execution_count": 90,
   "id": "46c7fb9f-f4a6-40a1-805c-f3c793a6ffb8",
   "metadata": {
    "tags": []
   },
   "outputs": [],
   "source": [
    "def correlation_matrix(data, numeric_columns):\n",
    "    \"\"\"\n",
    "    Calculates the correlation matrix for numeric columns in the dataset.\n",
    "\n",
    "    Parameters:\n",
    "        data (pd.DataFrame): The dataset to analyze.\n",
    "        numeric_columns (list): List of numeric columns to include in the correlation matrix.\n",
    "    \"\"\"\n",
    "    print(\"Correlation Matrix:\")\n",
    "    print(data[numeric_columns].corr())\n"
   ]
  },
  {
   "cell_type": "code",
   "execution_count": 4,
   "id": "5390b9a4-bdc4-4045-a5d8-3a8f787e38c4",
   "metadata": {
    "tags": []
   },
   "outputs": [],
   "source": [
    "def frequency_counts(data, categorical_columns):\n",
    "    \"\"\"\n",
    "    Displays frequency counts for categorical columns in the dataset.\n",
    "\n",
    "    Parameters:\n",
    "        data (pd.DataFrame): The dataset to analyze.\n",
    "        categorical_columns (list): List of categorical columns to summarize (e.g., ['group', 'sex']).\n",
    "    \"\"\"\n",
    "    for column in categorical_columns:\n",
    "        print(f\"Frequency Counts for {column}:\")\n",
    "        print(data[column].value_counts())\n",
    "        print()\n",
    "\n",
    "        plt.figure(figsize=(6, 4))\n",
    "        sns.countplot(x='Overall Success of Hyperfine', data=df, palette=\"viridis\")\n",
    "        plt.title(\"Hyperfine Imaging Success\")\n",
    "        plt.xlabel(\"Success\")\n",
    "        plt.ylabel(\"Count\")\n",
    "        plt.savefig(f'{column}_countplot.png')\n",
    "        plt.show()\n"
   ]
  },
  {
   "cell_type": "code",
   "execution_count": 3,
   "id": "932080d5",
   "metadata": {},
   "outputs": [],
   "source": [
    "def plot_distribution(data,column):\n",
    "\n",
    "    # Distribution of the specified variable\n",
    "    plt.figure(figsize=(8, 6))\n",
    "    sns.histplot(data[column].dropna(), bins=20, kde=True, color=\"blue\")\n",
    "    plt.title(f\"Distribution of {column}\")\n",
    "    plt.xlabel(f\"{column}]\")\n",
    "    plt.ylabel(\"Frequency\")\n",
    "    plt.savefig(f'{column}_histplot.png')\n",
    "    plt.show()"
   ]
  },
  {
   "cell_type": "code",
   "execution_count": 92,
   "id": "837aeffc-60a9-4c4e-8680-d2adfdc406d5",
   "metadata": {
    "tags": []
   },
   "outputs": [],
   "source": [
    "def percentile_summary(data, column, percentiles=[0.1, 0.25, 0.5, 0.75, 0.9]):\n",
    "    \"\"\"\n",
    "    Calculates custom percentiles for a numeric column.\n",
    "\n",
    "    Parameters:\n",
    "        data (pd.DataFrame): The dataset to analyze.\n",
    "        column (str): The numeric column to calculate percentiles for.\n",
    "        percentiles (list): List of percentiles to calculate (default: [10th, 25th, 50th, 75th, 90th]).\n",
    "    \"\"\"\n",
    "    print(f\"Percentiles for {column}:\")\n",
    "    print(data[column].quantile(percentiles))\n"
   ]
  },
  {
   "cell_type": "markdown",
   "id": "c0689382-8103-40d8-8ebe-997be438e703",
   "metadata": {},
   "source": [
    "### Run descriptive statistics functions"
   ]
  },
  {
   "cell_type": "code",
   "execution_count": 101,
   "id": "a363c8fb-f6e3-4492-ade9-08d60abd19a8",
   "metadata": {
    "tags": []
   },
   "outputs": [
    {
     "name": "stdout",
     "output_type": "stream",
     "text": [
      "Dataset Info:\n",
      "<class 'pandas.core.frame.DataFrame'>\n",
      "RangeIndex: 20 entries, 0 to 19\n",
      "Data columns (total 7 columns):\n",
      " #   Column              Non-Null Count  Dtype \n",
      "---  ------              --------------  ----- \n",
      " 0   subject             20 non-null     object\n",
      " 1   session             20 non-null     object\n",
      " 2   age                 20 non-null     int64 \n",
      " 3   sex                 20 non-null     object\n",
      " 4   group               20 non-null     object\n",
      " 5   weight              20 non-null     int64 \n",
      " 6   total intracranial  20 non-null     int64 \n",
      "dtypes: int64(3), object(4)\n",
      "memory usage: 1.2+ KB\n",
      "None\n",
      "\n",
      "Missing Values:\n",
      "subject               0\n",
      "session               0\n",
      "age                   0\n",
      "sex                   0\n",
      "group                 0\n",
      "weight                0\n",
      "total intracranial    0\n",
      "dtype: int64\n",
      "\n",
      "Basic Descriptive Statistics:\n",
      "           subject   session          age  sex    group     weight   \n",
      "count           20        20    20.000000   20       20  20.000000  \\\n",
      "unique          20         1          NaN    2        2        NaN   \n",
      "top     sample-001  baseline          NaN    F  patient        NaN   \n",
      "freq             1        20          NaN   10       10        NaN   \n",
      "mean           NaN       NaN  1240.700000  NaN      NaN  49.300000   \n",
      "std            NaN       NaN   133.876652  NaN      NaN   7.441703   \n",
      "min            NaN       NaN  1000.000000  NaN      NaN  38.000000   \n",
      "25%            NaN       NaN  1161.500000  NaN      NaN  45.000000   \n",
      "50%            NaN       NaN  1254.000000  NaN      NaN  49.500000   \n",
      "75%            NaN       NaN  1325.000000  NaN      NaN  52.000000   \n",
      "max            NaN       NaN  1453.000000  NaN      NaN  68.000000   \n",
      "\n",
      "        total intracranial  \n",
      "count         2.000000e+01  \n",
      "unique                 NaN  \n",
      "top                    NaN  \n",
      "freq                   NaN  \n",
      "mean          1.131382e+06  \n",
      "std           8.566462e+04  \n",
      "min           1.017801e+06  \n",
      "25%           1.049923e+06  \n",
      "50%           1.115377e+06  \n",
      "75%           1.218406e+06  \n",
      "max           1.256283e+06  \n",
      "\n",
      "---\n",
      "\n",
      "Descriptive Statistics Grouped by sex:\n",
      "      age                                                                \n",
      "    count    mean         std     min     25%     50%      75%     max   \n",
      "sex                                                                      \n",
      "F    10.0  1185.9  134.133805  1000.0  1071.5  1218.0  1283.50  1379.0  \\\n",
      "M    10.0  1295.5  114.769576  1100.0  1220.5  1271.5  1398.75  1453.0   \n",
      "\n",
      "    total intracranial             ...                        weight         \n",
      "                 count       mean  ...         75%        max  count  mean   \n",
      "sex                                ...                                       \n",
      "F                 10.0  1056532.6  ...  1078766.25  1100711.0   10.0  46.5  \\\n",
      "M                 10.0  1206231.7  ...  1232774.50  1256283.0   10.0  52.1   \n",
      "\n",
      "                                               \n",
      "          std   min    25%   50%    75%   max  \n",
      "sex                                            \n",
      "F    5.169354  38.0  42.75  47.5  50.00  53.0  \n",
      "M    8.530338  42.0  46.75  50.0  52.75  68.0  \n",
      "\n",
      "[2 rows x 24 columns]\n",
      "---\n",
      "Correlation Matrix:\n",
      "                         age  total intracranial    weight\n",
      "age                 1.000000            0.737044  0.895910\n",
      "total intracranial  0.737044            1.000000  0.697323\n",
      "weight              0.895910            0.697323  1.000000\n",
      "---\n",
      "Frequency Counts for group:\n",
      "group\n",
      "patient    10\n",
      "control    10\n",
      "Name: count, dtype: int64\n",
      "\n",
      "Frequency Counts for sex:\n",
      "sex\n",
      "F    10\n",
      "M    10\n",
      "Name: count, dtype: int64\n",
      "\n",
      "---\n",
      "Percentiles for age:\n",
      "0.10    1057.1\n",
      "0.25    1161.5\n",
      "0.50    1254.0\n",
      "0.75    1325.0\n",
      "0.90    1405.4\n",
      "Name: age, dtype: float64\n"
     ]
    }
   ],
   "source": [
    "# Run functions\n",
    "\n",
    "sample_data = Path.home() / \"Data/sample-recon-all-clinical-0.3.2-volumes.csv\"\n",
    "df = pd.read_csv(sample_data)\n",
    "    \n",
    "dataset_summary(df)\n",
    "print('---')\n",
    "grouped_statistics(df, group_column='sex', numeric_columns=['age', 'total intracranial', 'weight'])\n",
    "print('---')\n",
    "correlation_matrix(df, numeric_columns=['age', 'total intracranial', 'weight'])\n",
    "print('---')\n",
    "frequency_counts(df, categorical_columns=['group', 'sex'])\n",
    "print('---')\n",
    "percentile_summary(df, column='age')\n"
   ]
  },
  {
   "cell_type": "markdown",
   "id": "971e9c6d-3a68-4657-b8a3-1fa0f1507971",
   "metadata": {
    "tags": []
   },
   "source": [
    "# ------\n",
    "## Misc. functions that may be usful"
   ]
  },
  {
   "cell_type": "markdown",
   "id": "5db742f1-52cc-42e7-8135-f1d9aaa01836",
   "metadata": {},
   "source": [
    "**# Get list of column headers**"
   ]
  },
  {
   "cell_type": "code",
   "execution_count": 102,
   "id": "16ca356b-687d-4dcb-bdac-3968aa3933ba",
   "metadata": {
    "tags": []
   },
   "outputs": [
    {
     "name": "stdout",
     "output_type": "stream",
     "text": [
      "['subject', 'session', 'age', 'sex', 'group', 'weight', 'total intracranial']\n"
     ]
    }
   ],
   "source": [
    "# Get list of column headers\n",
    "column_headers = df.columns.tolist()\n",
    "\n",
    "print(column_headers)"
   ]
  },
  {
   "cell_type": "markdown",
   "id": "a652f9e8-afff-4156-8e4c-f5c2aab85185",
   "metadata": {},
   "source": [
    "**Remove subject (i.e. phantom scans)**"
   ]
  },
  {
   "cell_type": "code",
   "execution_count": null,
   "id": "3dca72eb-a73b-4689-bde1-9a367584a348",
   "metadata": {},
   "outputs": [],
   "source": [
    "df = df[df['Subject Label'] != '137-0031']"
   ]
  },
  {
   "cell_type": "markdown",
   "id": "97faca74",
   "metadata": {},
   "source": [
    "**Harmonising categorical data to be all lower or uppercase**\n",
    "In some cases, data can be inhomogenous due to erroneous inputs by users. For instance, in the sex column, you can have \"m\", and \"M\" for male. These will be treated as different categories. One way to fix this is to transform everything to upper (or lower) case."
   ]
  },
  {
   "cell_type": "markdown",
   "id": "60f21466",
   "metadata": {},
   "source": [
    "Other functions include: ```title()``` (first letter in uppercase and rest in lowercase), or ```lower()```"
   ]
  },
  {
   "cell_type": "code",
   "execution_count": null,
   "id": "9d004261",
   "metadata": {},
   "outputs": [],
   "source": [
    "df['sex'] = df['sex'].str.upper()\n",
    "#verify that the new catgories are M and F.\n",
    "df['sex'].value_counts()"
   ]
  },
  {
   "cell_type": "markdown",
   "id": "92526d76",
   "metadata": {},
   "source": [
    "Sometimes you need to rename columns to be more intuitive"
   ]
  },
  {
   "cell_type": "code",
   "execution_count": null,
   "id": "5eb8c4a7",
   "metadata": {},
   "outputs": [],
   "source": [
    "df.rename(columns = {'age':'age_in_days','weight':'weight (kg)'}, inplace = True)\n",
    "df.head()"
   ]
  },
  {
   "cell_type": "markdown",
   "id": "c5bad66e",
   "metadata": {},
   "source": [
    "Check for duplicate data, then clean them out of the dataset:"
   ]
  },
  {
   "cell_type": "code",
   "execution_count": null,
   "id": "5ba4398c",
   "metadata": {},
   "outputs": [],
   "source": [
    "sum(df.duplicated())\n",
    "df2 = df[~df.duplicated()]\n",
    "sum(df2.duplicated()) # calculate the number of duplicates after removing them. If we were succcessful, it should print 0."
   ]
  },
  {
   "cell_type": "markdown",
   "id": "9ccdd11a-3966-4f40-b1a3-6e107b4da8de",
   "metadata": {},
   "source": [
    "**Merging dataframes**"
   ]
  },
  {
   "cell_type": "code",
   "execution_count": null,
   "id": "b94f5f1d-d305-492f-8c8b-498fd11454a5",
   "metadata": {},
   "outputs": [],
   "source": [
    "# Make sure each df have matching column headers - rename if necessary\n",
    "df_qc = df_qc.rename(columns={'Subject Label': 'subject', 'Session Label': 'session'})\n",
    "\n",
    "# Merge the DataFrames on 'subject' and 'session'\n",
    "merged_df = pd.merge(df_qc, df, on=['subject', 'session'], how='inner')"
   ]
  },
  {
   "cell_type": "markdown",
   "id": "c747ff19",
   "metadata": {},
   "source": [
    "## Outliers\n",
    "\n",
    "To remove outliers, you can use techniques like the interquartile range (IQR) method or z-score filtering."
   ]
  },
  {
   "cell_type": "code",
   "execution_count": 2,
   "id": "e226b7cf",
   "metadata": {},
   "outputs": [],
   "source": [
    "def filter_outliers(df, column):\n",
    "\n",
    "    Q1_weight = df[column].quantile(0.25)\n",
    "    Q3_weight = df[column].quantile(0.75)\n",
    "    IQR_weight = Q3_weight - Q1_weight\n",
    "    lower_bound_weight = Q1_weight - 1.5 * IQR_weight\n",
    "    upper_bound_weight = Q3_weight + 1.5 * IQR_weight\n",
    "\n",
    "    filtered_df = df[\n",
    "        (df[column] >= lower_bound_weight) & (df[column] <= upper_bound_weight)\n",
    "    ]\n",
    "\n",
    "    return filtered_df"
   ]
  }
 ],
 "metadata": {
  "kernelspec": {
   "display_name": ".unityEnv",
   "language": "python",
   "name": "python3"
  },
  "language_info": {
   "codemirror_mode": {
    "name": "ipython",
    "version": 3
   },
   "file_extension": ".py",
   "mimetype": "text/x-python",
   "name": "python",
   "nbconvert_exporter": "python",
   "pygments_lexer": "ipython3",
   "version": "3.13.0"
  }
 },
 "nbformat": 4,
 "nbformat_minor": 5
}
